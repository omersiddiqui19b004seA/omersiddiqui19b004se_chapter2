{
 "cells": [
  {
   "cell_type": "code",
   "execution_count": 1,
   "metadata": {},
   "outputs": [
    {
     "name": "stdout",
     "output_type": "stream",
     "text": [
      "John Fitzgerald Kennedy\n",
      "a) True\n",
      "b) False\n",
      "c) True\n",
      "d) True\n",
      "e) False\n",
      "f) False\n"
     ]
    }
   ],
   "source": [
    "\n",
    "#ex 2.16\n",
    "a = 6\n",
    "b = 7\n",
    "c = (a+b)/2\n",
    "\n",
    "inventory = ['paper','pencil','staples']\n",
    "\n",
    "first = 'John'\n",
    "middle = 'Fitzgerald'\n",
    "last = 'Kennedy'\n",
    "fullname = (first+\" \"+middle+\" \"+last)\n",
    "print(fullname)\n",
    "\n",
    "#ex 2.17\n",
    "print('a)',((17-9)<10))\n",
    "print('b)',len(inventory)==5*len(fullname))\n",
    "print('c)',c <= 24)\n",
    "print('d)',6.75 > a and 6.75 < b)\n",
    "print('e)',len(middle)>len(first) and len(middle)<len(last))\n",
    "print('f)',len(inventory)==0 or len(inventory)>10)"
   ]
  },
  {
   "cell_type": "code",
   "execution_count": 22,
   "metadata": {},
   "outputs": [
    {
     "name": "stdout",
     "output_type": "stream",
     "text": [
      "a) ['rose', 'bougainvillea', 'yucca', 'marigold', 'daylilly', 'lilly of the valley']\n",
      "b) False\n",
      "c) ['rose', 'bougainvillea', 'yucca']\n",
      "d) lilly of the valley\n"
     ]
    }
   ],
   "source": [
    "#ex 2.18\n",
    "flowers = ['rose', 'bougainvillea','yucca', 'marigold', 'daylilly','lilly of the valley']\n",
    "print('a)',flowers)\n",
    "print('b)','potato' in flowers)\n",
    "thorny=flowers[:3]\n",
    "print('c)',thorny)\n",
    "poisnous = flowers[-1]\n",
    "print('d)',poisnous)"
   ]
  },
  {
   "cell_type": "code",
   "execution_count": 5,
   "metadata": {},
   "outputs": [
    {
     "name": "stdout",
     "output_type": "stream",
     "text": [
      "a) 5\n",
      "b) 6\n",
      "c) 45.45454545454545 %\n",
      "d) ['N', 'N', 'N', 'N', 'N', 'N', 'Y', 'Y', 'Y', 'Y', 'Y']\n",
      "e) at 6 Y will occur for the first time\n"
     ]
    }
   ],
   "source": [
    "#ex 2.19\n",
    "answers = ['Y', 'N', 'N', 'Y', 'N', 'Y', 'Y', 'Y', 'N', 'N', 'N']\n",
    "numYes=answers.count('Y')\n",
    "print('a)',numYes)\n",
    "numNo=answers.count('N')\n",
    "print('b)',numNo)\n",
    "PercentYes=(numYes/len(answers))*100\n",
    "print('c)',PercentYes,'%')\n",
    "answers.sort()\n",
    "print('d)',answers)\n",
    "f = answers.count('N')\n",
    "print('e)',\"at\",f,answers[f],\"will occur for the first time\")"
   ]
  },
  {
   "cell_type": "code",
   "execution_count": 6,
   "metadata": {},
   "outputs": [
    {
     "name": "stdout",
     "output_type": "stream",
     "text": [
      "top\n"
     ]
    }
   ],
   "source": [
    "#ex 2.20\n",
    "s = 'pot'\n",
    "print(s[::-1])"
   ]
  },
  {
   "cell_type": "code",
   "execution_count": 7,
   "metadata": {},
   "outputs": [
    {
     "name": "stdout",
     "output_type": "stream",
     "text": [
      "WA\n"
     ]
    }
   ],
   "source": [
    "#ex 2.21\n",
    "s = 'omer'\n",
    "t = 'sidddiqui'\n",
    "print(s[0]+t[0])"
   ]
  },
  {
   "cell_type": "code",
   "execution_count": 8,
   "metadata": {},
   "outputs": [
    {
     "name": "stdout",
     "output_type": "stream",
     "text": [
      "14\n"
     ]
    }
   ],
   "source": [
    "#ex 2.22\n",
    "lst = [3, 7, -2, 12]\n",
    "print(max(lst)-min(lst))"
   ]
  },
  {
   "cell_type": "code",
   "execution_count": 9,
   "metadata": {},
   "outputs": [
    {
     "name": "stdout",
     "output_type": "stream",
     "text": [
      "List monthsL : ['Jan', 'Feb', 'Mar', 'May']\n",
      "Tuple monthsT: ('Jan', 'Feb', 'Mar', 'May')\n",
      "\n",
      "\n",
      "After applying append on list monthsL: ['Jan', 'Feb', 'Mar', 'May', 'Jun']\n",
      "append gave error on tuple monthsT\n",
      "\n",
      "\n",
      "Inserting in list monthsL: ['Jan', 'Feb', 'Mar', 'Apr', 'May', 'Jun']\n",
      "insert gave error on tuple monthsT\n",
      "\n",
      "\n",
      "After applying pop on list monthsL : ['Jan', 'Feb', 'Mar', 'Apr', 'May']\n",
      "Insert gave error on tuple monthsT\n",
      "\n",
      "\n",
      "removing item on list monthsL['Jan', 'Mar', 'Apr', 'May']\n",
      "removing item gave error on tuple MonthsT\n",
      "\n",
      "\n",
      "reverse on list monthsL['May', 'Apr', 'Mar', 'Jan']\n",
      "reverse command gave error on tuple monthsT\n",
      "\n",
      "\n",
      "sorting on list monthsL['Apr', 'Jan', 'Mar', 'May']\n",
      "sorting gave error in tuple monthsT\n"
     ]
    }
   ],
   "source": [
    "#ex 2.23\n",
    "monthsL=['Jan', 'Feb','Mar', 'May' ] \n",
    "monthsT=('Jan', 'Feb','Mar', 'May')\n",
    "print(\"List monthsL : \" +str(monthsL) ) \n",
    "print(\"Tuple monthsT: \" +str(monthsT) )\n",
    "\n",
    "monthsL.append(\"Jun\")\n",
    "#monthsT.append(\"jun\")\n",
    "print(\"\\n\\nAfter applying append on list monthsL: \" +str(monthsL) ) \n",
    "print(\"append gave error on tuple monthsT\")\n",
    "\n",
    "monthsL.insert(3, \"Apr\")\n",
    "#monthsT. insert (3, “Apr” )\n",
    "print(\"\\n\\nInserting in list monthsL: \" +str(monthsL) ) \n",
    "print(\"insert gave error on tuple monthsT\")\n",
    "\n",
    "\n",
    "monthsL.pop()\n",
    "#monthsT.pop() ;\n",
    "print(\"\\n\\nAfter applying pop on list monthsL : \" +str(monthsL) ) \n",
    "print(\"Insert gave error on tuple monthsT\")\n",
    "\n",
    "\n",
    "monthsL.remove(\"Feb\" )\n",
    "#monthsT.remove(\"Feb\")\n",
    "print(\"\\n\\nremoving item on list monthsL\" +str(monthsL) ) \n",
    "print(\"removing item gave error on tuple MonthsT\")\n",
    "\n",
    "\n",
    "monthsL.reverse() \n",
    "#monthsT.reverse() \n",
    "print(\"\\n\\nreverse on list monthsL\" +str(monthsL) ) \n",
    "print(\"reverse command gave error on tuple monthsT\")\n",
    "\n",
    "\n",
    "monthsL.sort()\n",
    "#monthsT.sort()\n",
    "print(\"\\n\\nsorting on list monthsL\" +str(monthsL) )\n",
    "print(\"sorting gave error in tuple monthsT\")"
   ]
  },
  {
   "cell_type": "code",
   "execution_count": 10,
   "metadata": {},
   "outputs": [
    {
     "name": "stdout",
     "output_type": "stream",
     "text": [
      "[4, 4, 2, 2, 1]\n"
     ]
    }
   ],
   "source": [
    "#ex 2.24\n",
    "grades = ['B','B','F','C','B','A','A','D','C','D','A','A','B']\n",
    "count = [grades.count('A'),grades.count('B'),grades.count('C'),grades.count('D'),grades.count('F')]\n",
    "print(count)"
   ]
  },
  {
   "cell_type": "code",
   "execution_count": 11,
   "metadata": {},
   "outputs": [
    {
     "name": "stdout",
     "output_type": "stream",
     "text": [
      "[4, 4, 2, 2, 1]\n"
     ]
    }
   ],
   "source": [
    "#ex 2.25\n",
    "grades = ('B','B','F','C','B','A','A','D','C','D','A','A','B')\n",
    "count = [grades.count('A'),grades.count('B'),grades.count('C'),grades.count('D'),grades.count('F')]\n",
    "print(count)"
   ]
  },
  {
   "cell_type": "code",
   "execution_count": 12,
   "metadata": {},
   "outputs": [
    {
     "name": "stdout",
     "output_type": "stream",
     "text": [
      "dart has x cordinate 0 and y cordinate 0\n",
      "Dart has hit within the dartboard\n",
      "\n",
      "dart has x cordinate 10 and y cordinate 10\n",
      "Dart has hit outside the dartboard\n",
      "\n",
      "dart has x cordinate 6 and y cordinate 6\n",
      "\\Dart has hit within the dartboard\n",
      "\n",
      "dart has x cordinate 7 and y cordinate 8\n",
      "Dart has hit outside the dartboard\n"
     ]
    }
   ],
   "source": [
    "#ex 2.26\n",
    "from math import sqrt\n",
    "\n",
    "r = 10\n",
    "\n",
    "x=0\n",
    "y=0\n",
    "distance = sqrt(x**2+y**2)\n",
    "print(\"dart has x cordinate \" +str(x)+ \" and y cordinate \" +str(y))\n",
    "if distance < r :\n",
    "    print(\"Dart has hit within the dartboard\")\n",
    "    \n",
    "if distance > r :\n",
    "    print(\"Dart has hit outside the dartboard\")\n",
    "    \n",
    "x=10\n",
    "y=10\n",
    "distance = sqrt(x**2+y**2)\n",
    "print(\"\\ndart has x cordinate \" +str(x)+ \" and y cordinate \" +str(y))\n",
    "if distance < r :\n",
    "    print(\"\\Dart has hit within the dartboard\")\n",
    "    \n",
    "if distance > r :\n",
    "    print(\"Dart has hit outside the dartboard\") \n",
    "    \n",
    "x=6\n",
    "y=6\n",
    "distance = sqrt(x**2+y**2)\n",
    "print(\"\\ndart has x cordinate \" +str(x)+ \" and y cordinate \" +str(y))\n",
    "if distance < r :\n",
    "    print(\"\\Dart has hit within the dartboard\")\n",
    "    \n",
    "if distance > r :\n",
    "    print(\"Dart has hit outside the dartboard\") \n",
    "    \n",
    "x=7\n",
    "y=8\n",
    "distance = sqrt(x**2+y**2)\n",
    "print(\"\\ndart has x cordinate \" +str(x)+ \" and y cordinate \" +str(y))\n",
    "if distance < r :\n",
    "    print(\"\\Dart has hit within the dartboard\")\n",
    "    \n",
    "if distance > r :\n",
    "    print(\"Dart has hit outside the dartboard\")"
   ]
  },
  {
   "cell_type": "code",
   "execution_count": 13,
   "metadata": {},
   "outputs": [
    {
     "name": "stdout",
     "output_type": "stream",
     "text": [
      "For length 16 and angle 75 degree height is :15.454813220625093\n",
      "For length 20 and angle @ degree height is :0.0\n",
      "For length 24 and angle 45 degree height is :16.970562748477143\n",
      "For length 24 and angle 80 degree height is :23.63538607229299\n"
     ]
    }
   ],
   "source": [
    "#ex 2.27\n",
    "from math import sin\n",
    "from math import pi\n",
    "l1=(16)\n",
    "l2=(20)\n",
    "l3=(24)\n",
    "l4=(24)\n",
    "a1=(75)\n",
    "a2=(0)\n",
    "a3=(45)\n",
    "a4=(80)\n",
    "#Height for 1st Ladder\n",
    "radians = pi * a1/180\n",
    "h1=l1*sin(radians)\n",
    "print(\"For length 16 and angle 75 degree height is :\" +str(h1)) \n",
    "#Height for 2nd Ladder\n",
    "radians = pi * a2/180\n",
    "h2=l2*sin(radians)\n",
    "print(\"For length 20 and angle @ degree height is :\" +str(h2))\n",
    "#Height for 3rd Ladder\n",
    "radians = pi * a3/180\n",
    "h3=l3*sin(radians )\n",
    "print(\"For length 24 and angle 45 degree height is :\" +str(h3)) \n",
    "#Height for 4th Ladder\n",
    "radians = pi * a4/180\n",
    "h4=l4*sin(radians)\n",
    "print(\"For length 24 and angle 80 degree height is :\" +str(h4))"
   ]
  },
  {
   "cell_type": "code",
   "execution_count": 14,
   "metadata": {},
   "outputs": [
    {
     "name": "stdout",
     "output_type": "stream",
     "text": [
      "Middle Index Value of list is :2.0\n",
      "Middle value of List is : 3\n",
      "Reverse sorted value of list : [5, 4, 3, 2, 1]\n",
      "Removing first element and putting it in the end :[2, 3, 4, 5, 1]\n"
     ]
    }
   ],
   "source": [
    "#ex 2.28\n",
    "list = [1,2,3,4,5] \n",
    "middleindex = (len(list)-1)/2 \n",
    "print(\"Middle Index Value of list is :\" +str(middleindex) )\n",
    "\n",
    "midvalue = list[int(len(list)/2)]\n",
    "print(\"Middle value of List is : \"+str(midvalue) )\n",
    "\n",
    "sort = sorted(list,reverse=True)\n",
    "print(\"Reverse sorted value of list : \" +str(sort))\n",
    "\n",
    "b= list.pop(0) \n",
    "c=list.append(1) \n",
    "print(\"Removing first element and putting it in the end :\" +str(list))"
   ]
  },
  {
   "cell_type": "code",
   "execution_count": 15,
   "metadata": {},
   "outputs": [
    {
     "name": "stdout",
     "output_type": "stream",
     "text": [
      "a) True\n",
      "b) True\n",
      "c) True\n"
     ]
    }
   ],
   "source": [
    "#ex 2.29\n",
    "print('a)',bool(0==(1==2))) # since 0 = false and 1==2 = false , so that is false = false that is true\n",
    "print('b)',bool(2+(3==4)+5)) \n",
    "print('c)',bool(1<-1)==(3>4))# since false==false , it is true"
   ]
  },
  {
   "cell_type": "code",
   "execution_count": 17,
   "metadata": {},
   "outputs": [
    {
     "name": "stdout",
     "output_type": "stream",
     "text": [
      "Extend Command : [2, 3, 4, 5, 6]\n",
      "Entend Command Adds Number in the list\n",
      "copy command : [2, 3, 4, 5, 6]\n",
      "Copy Command Copy list to new list\n",
      "clear command :[]\n",
      "clear command clear the list\n"
     ]
    }
   ],
   "source": [
    "#ex 2.31\n",
    "lst=[2,3,4]\n",
    "lst.extend([5,6])\n",
    "print(\"Extend Command : \" +str(lst))\n",
    "print (\"Entend Command Adds Number in the list\")\n",
    "\n",
    "lst2=lst.copy()\n",
    "print(\"copy command : \" +str(lst2))\n",
    "print(\"Copy Command Copy list to new list\")\n",
    "\n",
    "lst.clear()\n",
    "print(\"clear command :\" +str(lst))\n",
    "print(\"clear command clear the list\")"
   ]
  }
 ],
 "metadata": {
  "kernelspec": {
   "display_name": "Python 3",
   "language": "python",
   "name": "python3"
  },
  "language_info": {
   "codemirror_mode": {
    "name": "ipython",
    "version": 3
   },
   "file_extension": ".py",
   "mimetype": "text/x-python",
   "name": "python",
   "nbconvert_exporter": "python",
   "pygments_lexer": "ipython3",
   "version": "3.7.3"
  }
 },
 "nbformat": 4,
 "nbformat_minor": 2
}
